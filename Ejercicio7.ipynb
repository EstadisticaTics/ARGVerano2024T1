{
 "cells": [
  {
   "cell_type": "code",
   "execution_count": 2,
   "metadata": {},
   "outputs": [],
   "source": [
    "import CodeBase.Adolfo as A\n",
    "import CodeBase.Diego as D\n",
    "import CodeBase.Eduardo as E\n",
    "import CodeBase.karen as K\n",
    "import CodeBase.Ricardo as R\n",
    "import CodeBase.tabla as T\n",
    "import CodeBase.Lopez as L\n",
    "import CodeBase.Antonio as Ant\n",
    "import CodeBase.Gomez as G\n"
   ]
  },
  {
   "cell_type": "code",
   "execution_count": 4,
   "metadata": {},
   "outputs": [
    {
     "name": "stdout",
     "output_type": "stream",
     "text": [
      "clases       Fa                Fr                F acumulada      \n",
      "------       -----------       -----------       -----------\n",
      "Clase América       8                26.666666666666668     26.666666666666668\n",
      "Clase Chivas       5                16.666666666666664     43.33333333333333\n",
      "Clase Necaxa       2                6.666666666666667     49.99999999999999\n",
      "Clase Pumas       8                26.666666666666668     76.66666666666666\n",
      "Clase Santos       3                10.0     86.66666666666666\n",
      "Clase Toluca       4                13.333333333333334     99.99999999999999\n"
     ]
    }
   ],
   "source": [
    "datos_entrada = [\n",
    "  \"Pumas\", \"América\", \"Chivas\", \"Pumas\", \"Chivas\",\n",
    "  \"Chivas\", \"América\", \"Toluca\", \"Toluca\", \"Pumas\",\n",
    "  \"Santos\", \"Necaxa\", \"América\", \"América\", \"América\",\n",
    "  \"Pumas\", \"Santos\", \"Pumas\", \"Pumas\", \"Pumas\",\n",
    "  \"América\", \"Chivas\", \"América\", \"Pumas\", \"Necaxa\",\n",
    "  \"Toluca\", \"Chivas\", \"América\", \"Toluca\", \"Santos\"\n",
    "]\n",
    "\n",
    "\n",
    "clases, fa_ab = R.frec_abs(datos_entrada)\n",
    "\n",
    "clases_orden = clases.copy()\n",
    "\n",
    "fa_sorted = A.sort_clases_fa(clases_orden, E.ordenar_asc(clases), fa_ab)\n",
    "\n",
    "frecuencia_rel=K.frec_rel(fa_sorted)\n",
    "\n",
    "frecuencia_rel_acum=D.frec_acum(frecuencia_rel)\n",
    "\n",
    "T.tabla(clases,fa_sorted,frecuencia_rel, frecuencia_rel_acum) \n",
    " \n",
    " "
   ]
  }
 ],
 "metadata": {
  "kernelspec": {
   "display_name": "Python 3",
   "language": "python",
   "name": "python3"
  },
  "language_info": {
   "codemirror_mode": {
    "name": "ipython",
    "version": 3
   },
   "file_extension": ".py",
   "mimetype": "text/x-python",
   "name": "python",
   "nbconvert_exporter": "python",
   "pygments_lexer": "ipython3",
   "version": "3.11.4"
  }
 },
 "nbformat": 4,
 "nbformat_minor": 2
}
